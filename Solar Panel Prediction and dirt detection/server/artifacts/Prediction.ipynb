{
 "cells": [
  {
   "cell_type": "code",
   "execution_count": 1,
   "metadata": {},
   "outputs": [],
   "source": [
    "import numpy as np\n",
    "import pandas as pd\n",
    "import matplotlib.pyplot as plt\n",
    "import seaborn as sns\n",
    "\n",
    "import warnings\n",
    "warnings.filterwarnings('ignore')"
   ]
  },
  {
   "cell_type": "code",
   "execution_count": 2,
   "metadata": {},
   "outputs": [],
   "source": [
    "df = pd.read_csv('Pasion et al dataset.csv')"
   ]
  },
  {
   "cell_type": "code",
   "execution_count": 3,
   "metadata": {},
   "outputs": [
    {
     "data": {
      "text/html": [
       "<div>\n",
       "<style scoped>\n",
       "    .dataframe tbody tr th:only-of-type {\n",
       "        vertical-align: middle;\n",
       "    }\n",
       "\n",
       "    .dataframe tbody tr th {\n",
       "        vertical-align: top;\n",
       "    }\n",
       "\n",
       "    .dataframe thead th {\n",
       "        text-align: right;\n",
       "    }\n",
       "</style>\n",
       "<table border=\"1\" class=\"dataframe\">\n",
       "  <thead>\n",
       "    <tr style=\"text-align: right;\">\n",
       "      <th></th>\n",
       "      <th>Location</th>\n",
       "      <th>Date</th>\n",
       "      <th>Time</th>\n",
       "      <th>Latitude</th>\n",
       "      <th>Longitude</th>\n",
       "      <th>Altitude</th>\n",
       "      <th>YRMODAHRMI</th>\n",
       "      <th>Month</th>\n",
       "      <th>Hour</th>\n",
       "      <th>Season</th>\n",
       "      <th>Humidity</th>\n",
       "      <th>AmbientTemp</th>\n",
       "      <th>PolyPwr</th>\n",
       "      <th>Wind.Speed</th>\n",
       "      <th>Visibility</th>\n",
       "      <th>Pressure</th>\n",
       "      <th>Cloud.Ceiling</th>\n",
       "    </tr>\n",
       "  </thead>\n",
       "  <tbody>\n",
       "    <tr>\n",
       "      <th>0</th>\n",
       "      <td>Camp Murray</td>\n",
       "      <td>20171203</td>\n",
       "      <td>1145</td>\n",
       "      <td>47.11</td>\n",
       "      <td>-122.57</td>\n",
       "      <td>84</td>\n",
       "      <td>2.017120e+11</td>\n",
       "      <td>12</td>\n",
       "      <td>11</td>\n",
       "      <td>Winter</td>\n",
       "      <td>81.71997</td>\n",
       "      <td>12.86919</td>\n",
       "      <td>2.42769</td>\n",
       "      <td>5</td>\n",
       "      <td>10.0</td>\n",
       "      <td>1010.6</td>\n",
       "      <td>722</td>\n",
       "    </tr>\n",
       "    <tr>\n",
       "      <th>1</th>\n",
       "      <td>Camp Murray</td>\n",
       "      <td>20171203</td>\n",
       "      <td>1315</td>\n",
       "      <td>47.11</td>\n",
       "      <td>-122.57</td>\n",
       "      <td>84</td>\n",
       "      <td>2.017120e+11</td>\n",
       "      <td>12</td>\n",
       "      <td>13</td>\n",
       "      <td>Winter</td>\n",
       "      <td>96.64917</td>\n",
       "      <td>9.66415</td>\n",
       "      <td>2.46273</td>\n",
       "      <td>0</td>\n",
       "      <td>10.0</td>\n",
       "      <td>1011.3</td>\n",
       "      <td>23</td>\n",
       "    </tr>\n",
       "    <tr>\n",
       "      <th>2</th>\n",
       "      <td>Camp Murray</td>\n",
       "      <td>20171203</td>\n",
       "      <td>1330</td>\n",
       "      <td>47.11</td>\n",
       "      <td>-122.57</td>\n",
       "      <td>84</td>\n",
       "      <td>2.017120e+11</td>\n",
       "      <td>12</td>\n",
       "      <td>13</td>\n",
       "      <td>Winter</td>\n",
       "      <td>93.61572</td>\n",
       "      <td>15.44983</td>\n",
       "      <td>4.46836</td>\n",
       "      <td>5</td>\n",
       "      <td>10.0</td>\n",
       "      <td>1011.6</td>\n",
       "      <td>32</td>\n",
       "    </tr>\n",
       "    <tr>\n",
       "      <th>3</th>\n",
       "      <td>Camp Murray</td>\n",
       "      <td>20171204</td>\n",
       "      <td>1230</td>\n",
       "      <td>47.11</td>\n",
       "      <td>-122.57</td>\n",
       "      <td>84</td>\n",
       "      <td>2.017120e+11</td>\n",
       "      <td>12</td>\n",
       "      <td>12</td>\n",
       "      <td>Winter</td>\n",
       "      <td>77.21558</td>\n",
       "      <td>10.36659</td>\n",
       "      <td>1.65364</td>\n",
       "      <td>5</td>\n",
       "      <td>2.0</td>\n",
       "      <td>1024.4</td>\n",
       "      <td>6</td>\n",
       "    </tr>\n",
       "    <tr>\n",
       "      <th>4</th>\n",
       "      <td>Camp Murray</td>\n",
       "      <td>20171204</td>\n",
       "      <td>1415</td>\n",
       "      <td>47.11</td>\n",
       "      <td>-122.57</td>\n",
       "      <td>84</td>\n",
       "      <td>2.017120e+11</td>\n",
       "      <td>12</td>\n",
       "      <td>14</td>\n",
       "      <td>Winter</td>\n",
       "      <td>54.80347</td>\n",
       "      <td>16.85471</td>\n",
       "      <td>6.57939</td>\n",
       "      <td>3</td>\n",
       "      <td>3.0</td>\n",
       "      <td>1023.7</td>\n",
       "      <td>9</td>\n",
       "    </tr>\n",
       "  </tbody>\n",
       "</table>\n",
       "</div>"
      ],
      "text/plain": [
       "      Location      Date  Time  Latitude  Longitude  Altitude    YRMODAHRMI  \\\n",
       "0  Camp Murray  20171203  1145     47.11    -122.57        84  2.017120e+11   \n",
       "1  Camp Murray  20171203  1315     47.11    -122.57        84  2.017120e+11   \n",
       "2  Camp Murray  20171203  1330     47.11    -122.57        84  2.017120e+11   \n",
       "3  Camp Murray  20171204  1230     47.11    -122.57        84  2.017120e+11   \n",
       "4  Camp Murray  20171204  1415     47.11    -122.57        84  2.017120e+11   \n",
       "\n",
       "   Month  Hour  Season  Humidity  AmbientTemp  PolyPwr  Wind.Speed  \\\n",
       "0     12    11  Winter  81.71997     12.86919  2.42769           5   \n",
       "1     12    13  Winter  96.64917      9.66415  2.46273           0   \n",
       "2     12    13  Winter  93.61572     15.44983  4.46836           5   \n",
       "3     12    12  Winter  77.21558     10.36659  1.65364           5   \n",
       "4     12    14  Winter  54.80347     16.85471  6.57939           3   \n",
       "\n",
       "   Visibility  Pressure  Cloud.Ceiling  \n",
       "0        10.0    1010.6            722  \n",
       "1        10.0    1011.3             23  \n",
       "2        10.0    1011.6             32  \n",
       "3         2.0    1024.4              6  \n",
       "4         3.0    1023.7              9  "
      ]
     },
     "execution_count": 3,
     "metadata": {},
     "output_type": "execute_result"
    }
   ],
   "source": [
    "df.head()"
   ]
  },
  {
   "cell_type": "code",
   "execution_count": 4,
   "metadata": {},
   "outputs": [
    {
     "data": {
      "text/html": [
       "<div>\n",
       "<style scoped>\n",
       "    .dataframe tbody tr th:only-of-type {\n",
       "        vertical-align: middle;\n",
       "    }\n",
       "\n",
       "    .dataframe tbody tr th {\n",
       "        vertical-align: top;\n",
       "    }\n",
       "\n",
       "    .dataframe thead th {\n",
       "        text-align: right;\n",
       "    }\n",
       "</style>\n",
       "<table border=\"1\" class=\"dataframe\">\n",
       "  <thead>\n",
       "    <tr style=\"text-align: right;\">\n",
       "      <th></th>\n",
       "      <th>Location</th>\n",
       "      <th>Date</th>\n",
       "      <th>Time</th>\n",
       "      <th>Latitude</th>\n",
       "      <th>Longitude</th>\n",
       "      <th>Altitude</th>\n",
       "      <th>YRMODAHRMI</th>\n",
       "      <th>Month</th>\n",
       "      <th>Hour</th>\n",
       "      <th>Season</th>\n",
       "      <th>Humidity</th>\n",
       "      <th>AmbientTemp</th>\n",
       "      <th>PolyPwr</th>\n",
       "      <th>Wind.Speed</th>\n",
       "      <th>Visibility</th>\n",
       "      <th>Pressure</th>\n",
       "      <th>Cloud.Ceiling</th>\n",
       "    </tr>\n",
       "  </thead>\n",
       "  <tbody>\n",
       "    <tr>\n",
       "      <th>21040</th>\n",
       "      <td>USAFA</td>\n",
       "      <td>20180928</td>\n",
       "      <td>1530</td>\n",
       "      <td>38.95</td>\n",
       "      <td>-104.83</td>\n",
       "      <td>1947</td>\n",
       "      <td>2.018090e+11</td>\n",
       "      <td>9</td>\n",
       "      <td>15</td>\n",
       "      <td>Fall</td>\n",
       "      <td>11.66992</td>\n",
       "      <td>43.22510</td>\n",
       "      <td>9.79611</td>\n",
       "      <td>14</td>\n",
       "      <td>10.0</td>\n",
       "      <td>802.3</td>\n",
       "      <td>722</td>\n",
       "    </tr>\n",
       "    <tr>\n",
       "      <th>21041</th>\n",
       "      <td>USAFA</td>\n",
       "      <td>20180929</td>\n",
       "      <td>1300</td>\n",
       "      <td>38.95</td>\n",
       "      <td>-104.83</td>\n",
       "      <td>1947</td>\n",
       "      <td>2.018090e+11</td>\n",
       "      <td>9</td>\n",
       "      <td>13</td>\n",
       "      <td>Fall</td>\n",
       "      <td>18.22510</td>\n",
       "      <td>28.98247</td>\n",
       "      <td>10.88992</td>\n",
       "      <td>13</td>\n",
       "      <td>10.0</td>\n",
       "      <td>799.2</td>\n",
       "      <td>722</td>\n",
       "    </tr>\n",
       "    <tr>\n",
       "      <th>21042</th>\n",
       "      <td>USAFA</td>\n",
       "      <td>20180929</td>\n",
       "      <td>1400</td>\n",
       "      <td>38.95</td>\n",
       "      <td>-104.83</td>\n",
       "      <td>1947</td>\n",
       "      <td>2.018090e+11</td>\n",
       "      <td>9</td>\n",
       "      <td>14</td>\n",
       "      <td>Fall</td>\n",
       "      <td>15.52124</td>\n",
       "      <td>33.49167</td>\n",
       "      <td>8.24479</td>\n",
       "      <td>10</td>\n",
       "      <td>10.0</td>\n",
       "      <td>798.4</td>\n",
       "      <td>722</td>\n",
       "    </tr>\n",
       "    <tr>\n",
       "      <th>21043</th>\n",
       "      <td>USAFA</td>\n",
       "      <td>20180929</td>\n",
       "      <td>1500</td>\n",
       "      <td>38.95</td>\n",
       "      <td>-104.83</td>\n",
       "      <td>1947</td>\n",
       "      <td>2.018090e+11</td>\n",
       "      <td>9</td>\n",
       "      <td>15</td>\n",
       "      <td>Fall</td>\n",
       "      <td>6.63452</td>\n",
       "      <td>51.62163</td>\n",
       "      <td>12.47328</td>\n",
       "      <td>10</td>\n",
       "      <td>10.0</td>\n",
       "      <td>797.8</td>\n",
       "      <td>722</td>\n",
       "    </tr>\n",
       "    <tr>\n",
       "      <th>21044</th>\n",
       "      <td>USAFA</td>\n",
       "      <td>20181001</td>\n",
       "      <td>1400</td>\n",
       "      <td>38.95</td>\n",
       "      <td>-104.83</td>\n",
       "      <td>1947</td>\n",
       "      <td>2.018100e+11</td>\n",
       "      <td>10</td>\n",
       "      <td>14</td>\n",
       "      <td>Fall</td>\n",
       "      <td>22.58301</td>\n",
       "      <td>32.83958</td>\n",
       "      <td>6.39732</td>\n",
       "      <td>15</td>\n",
       "      <td>10.0</td>\n",
       "      <td>801.2</td>\n",
       "      <td>110</td>\n",
       "    </tr>\n",
       "  </tbody>\n",
       "</table>\n",
       "</div>"
      ],
      "text/plain": [
       "      Location      Date  Time  Latitude  Longitude  Altitude    YRMODAHRMI  \\\n",
       "21040    USAFA  20180928  1530     38.95    -104.83      1947  2.018090e+11   \n",
       "21041    USAFA  20180929  1300     38.95    -104.83      1947  2.018090e+11   \n",
       "21042    USAFA  20180929  1400     38.95    -104.83      1947  2.018090e+11   \n",
       "21043    USAFA  20180929  1500     38.95    -104.83      1947  2.018090e+11   \n",
       "21044    USAFA  20181001  1400     38.95    -104.83      1947  2.018100e+11   \n",
       "\n",
       "       Month  Hour Season  Humidity  AmbientTemp   PolyPwr  Wind.Speed  \\\n",
       "21040      9    15   Fall  11.66992     43.22510   9.79611          14   \n",
       "21041      9    13   Fall  18.22510     28.98247  10.88992          13   \n",
       "21042      9    14   Fall  15.52124     33.49167   8.24479          10   \n",
       "21043      9    15   Fall   6.63452     51.62163  12.47328          10   \n",
       "21044     10    14   Fall  22.58301     32.83958   6.39732          15   \n",
       "\n",
       "       Visibility  Pressure  Cloud.Ceiling  \n",
       "21040        10.0     802.3            722  \n",
       "21041        10.0     799.2            722  \n",
       "21042        10.0     798.4            722  \n",
       "21043        10.0     797.8            722  \n",
       "21044        10.0     801.2            110  "
      ]
     },
     "execution_count": 4,
     "metadata": {},
     "output_type": "execute_result"
    }
   ],
   "source": [
    "df.tail()"
   ]
  },
  {
   "cell_type": "code",
   "execution_count": 5,
   "metadata": {},
   "outputs": [
    {
     "name": "stdout",
     "output_type": "stream",
     "text": [
      "<class 'pandas.core.frame.DataFrame'>\n",
      "RangeIndex: 21045 entries, 0 to 21044\n",
      "Data columns (total 17 columns):\n",
      " #   Column         Non-Null Count  Dtype  \n",
      "---  ------         --------------  -----  \n",
      " 0   Location       21045 non-null  object \n",
      " 1   Date           21045 non-null  int64  \n",
      " 2   Time           21045 non-null  int64  \n",
      " 3   Latitude       21045 non-null  float64\n",
      " 4   Longitude      21045 non-null  float64\n",
      " 5   Altitude       21045 non-null  int64  \n",
      " 6   YRMODAHRMI     21045 non-null  float64\n",
      " 7   Month          21045 non-null  int64  \n",
      " 8   Hour           21045 non-null  int64  \n",
      " 9   Season         21045 non-null  object \n",
      " 10  Humidity       21045 non-null  float64\n",
      " 11  AmbientTemp    21045 non-null  float64\n",
      " 12  PolyPwr        21045 non-null  float64\n",
      " 13  Wind.Speed     21045 non-null  int64  \n",
      " 14  Visibility     21045 non-null  float64\n",
      " 15  Pressure       21045 non-null  float64\n",
      " 16  Cloud.Ceiling  21045 non-null  int64  \n",
      "dtypes: float64(8), int64(7), object(2)\n",
      "memory usage: 2.7+ MB\n"
     ]
    }
   ],
   "source": [
    "df.info()"
   ]
  },
  {
   "cell_type": "code",
   "execution_count": 6,
   "metadata": {},
   "outputs": [
    {
     "data": {
      "text/html": [
       "<div>\n",
       "<style scoped>\n",
       "    .dataframe tbody tr th:only-of-type {\n",
       "        vertical-align: middle;\n",
       "    }\n",
       "\n",
       "    .dataframe tbody tr th {\n",
       "        vertical-align: top;\n",
       "    }\n",
       "\n",
       "    .dataframe thead th {\n",
       "        text-align: right;\n",
       "    }\n",
       "</style>\n",
       "<table border=\"1\" class=\"dataframe\">\n",
       "  <thead>\n",
       "    <tr style=\"text-align: right;\">\n",
       "      <th></th>\n",
       "      <th>Date</th>\n",
       "      <th>Time</th>\n",
       "      <th>Latitude</th>\n",
       "      <th>Longitude</th>\n",
       "      <th>Altitude</th>\n",
       "      <th>YRMODAHRMI</th>\n",
       "      <th>Month</th>\n",
       "      <th>Hour</th>\n",
       "      <th>Humidity</th>\n",
       "      <th>AmbientTemp</th>\n",
       "      <th>PolyPwr</th>\n",
       "      <th>Wind.Speed</th>\n",
       "      <th>Visibility</th>\n",
       "      <th>Pressure</th>\n",
       "      <th>Cloud.Ceiling</th>\n",
       "    </tr>\n",
       "  </thead>\n",
       "  <tbody>\n",
       "    <tr>\n",
       "      <th>count</th>\n",
       "      <td>2.104500e+04</td>\n",
       "      <td>21045.000000</td>\n",
       "      <td>21045.000000</td>\n",
       "      <td>21045.000000</td>\n",
       "      <td>21045.000000</td>\n",
       "      <td>2.104500e+04</td>\n",
       "      <td>21045.000000</td>\n",
       "      <td>21045.000000</td>\n",
       "      <td>21045.000000</td>\n",
       "      <td>21045.000000</td>\n",
       "      <td>21045.000000</td>\n",
       "      <td>21045.000000</td>\n",
       "      <td>21045.000000</td>\n",
       "      <td>21045.000000</td>\n",
       "      <td>21045.000000</td>\n",
       "    </tr>\n",
       "    <tr>\n",
       "      <th>mean</th>\n",
       "      <td>2.017720e+07</td>\n",
       "      <td>1267.483725</td>\n",
       "      <td>38.213823</td>\n",
       "      <td>-108.593678</td>\n",
       "      <td>798.843668</td>\n",
       "      <td>2.017718e+11</td>\n",
       "      <td>6.565883</td>\n",
       "      <td>12.627845</td>\n",
       "      <td>37.121941</td>\n",
       "      <td>29.285117</td>\n",
       "      <td>12.978583</td>\n",
       "      <td>10.318318</td>\n",
       "      <td>9.700071</td>\n",
       "      <td>925.944747</td>\n",
       "      <td>515.966785</td>\n",
       "    </tr>\n",
       "    <tr>\n",
       "      <th>std</th>\n",
       "      <td>4.579585e+03</td>\n",
       "      <td>167.602767</td>\n",
       "      <td>6.323761</td>\n",
       "      <td>16.364130</td>\n",
       "      <td>770.681794</td>\n",
       "      <td>4.579846e+07</td>\n",
       "      <td>2.983958</td>\n",
       "      <td>1.672952</td>\n",
       "      <td>23.823011</td>\n",
       "      <td>12.366820</td>\n",
       "      <td>7.123255</td>\n",
       "      <td>6.385030</td>\n",
       "      <td>1.351949</td>\n",
       "      <td>85.215659</td>\n",
       "      <td>301.903379</td>\n",
       "    </tr>\n",
       "    <tr>\n",
       "      <th>min</th>\n",
       "      <td>2.017052e+07</td>\n",
       "      <td>1000.000000</td>\n",
       "      <td>20.890000</td>\n",
       "      <td>-156.440000</td>\n",
       "      <td>1.000000</td>\n",
       "      <td>2.017050e+11</td>\n",
       "      <td>1.000000</td>\n",
       "      <td>10.000000</td>\n",
       "      <td>0.000000</td>\n",
       "      <td>-19.981770</td>\n",
       "      <td>0.257330</td>\n",
       "      <td>0.000000</td>\n",
       "      <td>0.000000</td>\n",
       "      <td>781.700000</td>\n",
       "      <td>0.000000</td>\n",
       "    </tr>\n",
       "    <tr>\n",
       "      <th>25%</th>\n",
       "      <td>2.017111e+07</td>\n",
       "      <td>1100.000000</td>\n",
       "      <td>38.160000</td>\n",
       "      <td>-117.260000</td>\n",
       "      <td>2.000000</td>\n",
       "      <td>2.017110e+11</td>\n",
       "      <td>4.000000</td>\n",
       "      <td>11.000000</td>\n",
       "      <td>17.529300</td>\n",
       "      <td>21.915280</td>\n",
       "      <td>6.404570</td>\n",
       "      <td>6.000000</td>\n",
       "      <td>10.000000</td>\n",
       "      <td>845.500000</td>\n",
       "      <td>140.000000</td>\n",
       "    </tr>\n",
       "    <tr>\n",
       "      <th>50%</th>\n",
       "      <td>2.018032e+07</td>\n",
       "      <td>1300.000000</td>\n",
       "      <td>38.950000</td>\n",
       "      <td>-111.180000</td>\n",
       "      <td>458.000000</td>\n",
       "      <td>2.018030e+11</td>\n",
       "      <td>7.000000</td>\n",
       "      <td>13.000000</td>\n",
       "      <td>33.123780</td>\n",
       "      <td>30.289150</td>\n",
       "      <td>13.798700</td>\n",
       "      <td>9.000000</td>\n",
       "      <td>10.000000</td>\n",
       "      <td>961.100000</td>\n",
       "      <td>722.000000</td>\n",
       "    </tr>\n",
       "    <tr>\n",
       "      <th>75%</th>\n",
       "      <td>2.018062e+07</td>\n",
       "      <td>1400.000000</td>\n",
       "      <td>41.150000</td>\n",
       "      <td>-104.710000</td>\n",
       "      <td>1370.000000</td>\n",
       "      <td>2.018060e+11</td>\n",
       "      <td>9.000000</td>\n",
       "      <td>14.000000</td>\n",
       "      <td>52.593990</td>\n",
       "      <td>37.474670</td>\n",
       "      <td>18.863650</td>\n",
       "      <td>14.000000</td>\n",
       "      <td>10.000000</td>\n",
       "      <td>1008.900000</td>\n",
       "      <td>722.000000</td>\n",
       "    </tr>\n",
       "    <tr>\n",
       "      <th>max</th>\n",
       "      <td>2.018100e+07</td>\n",
       "      <td>1545.000000</td>\n",
       "      <td>47.520000</td>\n",
       "      <td>-80.110000</td>\n",
       "      <td>1947.000000</td>\n",
       "      <td>2.018100e+11</td>\n",
       "      <td>12.000000</td>\n",
       "      <td>15.000000</td>\n",
       "      <td>99.987790</td>\n",
       "      <td>65.738370</td>\n",
       "      <td>34.285020</td>\n",
       "      <td>49.000000</td>\n",
       "      <td>10.000000</td>\n",
       "      <td>1029.500000</td>\n",
       "      <td>722.000000</td>\n",
       "    </tr>\n",
       "  </tbody>\n",
       "</table>\n",
       "</div>"
      ],
      "text/plain": [
       "               Date          Time      Latitude     Longitude      Altitude  \\\n",
       "count  2.104500e+04  21045.000000  21045.000000  21045.000000  21045.000000   \n",
       "mean   2.017720e+07   1267.483725     38.213823   -108.593678    798.843668   \n",
       "std    4.579585e+03    167.602767      6.323761     16.364130    770.681794   \n",
       "min    2.017052e+07   1000.000000     20.890000   -156.440000      1.000000   \n",
       "25%    2.017111e+07   1100.000000     38.160000   -117.260000      2.000000   \n",
       "50%    2.018032e+07   1300.000000     38.950000   -111.180000    458.000000   \n",
       "75%    2.018062e+07   1400.000000     41.150000   -104.710000   1370.000000   \n",
       "max    2.018100e+07   1545.000000     47.520000    -80.110000   1947.000000   \n",
       "\n",
       "         YRMODAHRMI         Month          Hour      Humidity   AmbientTemp  \\\n",
       "count  2.104500e+04  21045.000000  21045.000000  21045.000000  21045.000000   \n",
       "mean   2.017718e+11      6.565883     12.627845     37.121941     29.285117   \n",
       "std    4.579846e+07      2.983958      1.672952     23.823011     12.366820   \n",
       "min    2.017050e+11      1.000000     10.000000      0.000000    -19.981770   \n",
       "25%    2.017110e+11      4.000000     11.000000     17.529300     21.915280   \n",
       "50%    2.018030e+11      7.000000     13.000000     33.123780     30.289150   \n",
       "75%    2.018060e+11      9.000000     14.000000     52.593990     37.474670   \n",
       "max    2.018100e+11     12.000000     15.000000     99.987790     65.738370   \n",
       "\n",
       "            PolyPwr    Wind.Speed    Visibility      Pressure  Cloud.Ceiling  \n",
       "count  21045.000000  21045.000000  21045.000000  21045.000000   21045.000000  \n",
       "mean      12.978583     10.318318      9.700071    925.944747     515.966785  \n",
       "std        7.123255      6.385030      1.351949     85.215659     301.903379  \n",
       "min        0.257330      0.000000      0.000000    781.700000       0.000000  \n",
       "25%        6.404570      6.000000     10.000000    845.500000     140.000000  \n",
       "50%       13.798700      9.000000     10.000000    961.100000     722.000000  \n",
       "75%       18.863650     14.000000     10.000000   1008.900000     722.000000  \n",
       "max       34.285020     49.000000     10.000000   1029.500000     722.000000  "
      ]
     },
     "execution_count": 6,
     "metadata": {},
     "output_type": "execute_result"
    }
   ],
   "source": [
    "df.describe()"
   ]
  },
  {
   "cell_type": "code",
   "execution_count": 7,
   "metadata": {},
   "outputs": [
    {
     "data": {
      "image/png": "[encoded data removed]",
      "text/plain": [
       "<Figure size 1200x500 with 1 Axes>"
      ]
     },
     "metadata": {},
     "output_type": "display_data"
    }
   ],
   "source": [
    "# Plot histogram of target variable\n",
    "plt.figure(figsize=(12,5))\n",
    "sns.histplot(df.PolyPwr);\n",
    "plt.xlabel('PolyPwr (W)');"
   ]
  },
  {
   "cell_type": "code",
   "execution_count": null,
   "metadata": {},
   "outputs": [
    {
     "data": {
      "text/plain": [
       "<seaborn.axisgrid.PairGrid at 0x26e96936170>"
      ]
     },
     "execution_count": 8,
     "metadata": {},
     "output_type": "execute_result"
    }
   ],
   "source": [
    "sns.pairplot(df)"
   ]
  },
  {
   "cell_type": "code",
   "execution_count": null,
   "metadata": {},
   "outputs": [],
   "source": [
    "df_corr = df[['Location', 'Time', 'Latitude', 'Longitude', 'Altitude',\n",
    "              'YRMODAHRMI', 'Month', 'Hour', 'Season', 'Humidity', 'AmbientTemp',\n",
    "              'Wind.Speed', 'Visibility', 'Pressure', 'Cloud.Ceiling', 'PolyPwr']].corr()"
   ]
  },
  {
   "cell_type": "code",
   "execution_count": null,
   "metadata": {},
   "outputs": [],
   "source": [
    "mask = np.triu(np.ones_like(df_corr, dtype=bool))"
   ]
  },
  {
   "cell_type": "code",
   "execution_count": null,
   "metadata": {},
   "outputs": [],
   "source": [
    "f, ax = plt.subplots(figsize=(11, 9))\n",
    "sns.heatmap(df_corr, mask=mask, cmap='jet', vmax=.3, center=0, annot=True, fmt='.2f',\n",
    "            square=True, linewidths=.5, cbar_kws={\"shrink\": .8});\n",
    "plt.title('Correlation analysis for all sites');"
   ]
  },
  {
   "cell_type": "markdown",
   "metadata": {},
   "source": [
    "<font size=\"3\"> 1. The correlation between Ambient temperature, humidity and power improved when using site level data rather than fleet level data.<br/>\n",
    "<font size=\"3\"> 2. Also, some input features have their correlation sign with target change for individual sites compared with total sites data (e.g windspeed). <br/>\n",
    "<font size=\"3\"> 3. Hence, it may be necessary to build machine learning models per site to get the best out of the models. It might also be worth trying to encode the site-specific features like site location.<br/>\n",
    "<font size=\"3\"> 4. Altitude and pressure are perfectly correlated however, altitude does not change for a particular site and cannot be used for site-level modeling."
   ]
  },
  {
   "cell_type": "code",
   "execution_count": null,
   "metadata": {},
   "outputs": [],
   "source": [
    "plt.figure(figsize=(12, 3))\n",
    "sns.heatmap(df.isnull(), cmap='viridis');\n",
    "plt.title('Visualize missing values in datasets');"
   ]
  },
  {
   "cell_type": "code",
   "execution_count": null,
   "metadata": {},
   "outputs": [],
   "source": [
    "# Encode location data\n",
    "df_with_location_en = pd.get_dummies(df, columns=['Location'], drop_first=True)"
   ]
  },
  {
   "cell_type": "code",
   "execution_count": null,
   "metadata": {},
   "outputs": [],
   "source": [
    "# Encode season data\n",
    "df_with_loc_season_en = pd.get_dummies(df_with_location_en, columns=['Season'], drop_first=True)"
   ]
  },
  {
   "cell_type": "code",
   "execution_count": null,
   "metadata": {},
   "outputs": [],
   "source": [
    "min_hour_of_interest = 10\n",
    "max_hour_of_interest = 15"
   ]
  },
  {
   "cell_type": "code",
   "execution_count": null,
   "metadata": {},
   "outputs": [],
   "source": [
    "df_with_loc_season_en['delta_hr']= df_with_loc_season_en.Hour - min_hour_of_interest"
   ]
  },
  {
   "cell_type": "code",
   "execution_count": null,
   "metadata": {},
   "outputs": [],
   "source": [
    "# Create Cyclic date features\n",
    "df_with_loc_season_en['sine_mon']= np.sin((df_with_loc_season_en.Month - 1)*np.pi/11)\n",
    "df_with_loc_season_en['cos_mon']= np.cos((df_with_loc_season_en.Month - 1)*np.pi/11)\n",
    "df_with_loc_season_en['sine_hr']= np.sin((df_with_loc_season_en.delta_hr*np.pi/(max_hour_of_interest - min_hour_of_interest)))\n",
    "df_with_loc_season_en['cos_hr']= np.cos((df_with_loc_season_en.delta_hr*np.pi/(max_hour_of_interest - min_hour_of_interest)))"
   ]
  },
  {
   "cell_type": "code",
   "execution_count": null,
   "metadata": {},
   "outputs": [],
   "source": [
    "mask2 = np.triu(np.ones_like(df_with_loc_season_en.corr(), dtype=bool))"
   ]
  },
  {
   "cell_type": "code",
   "execution_count": null,
   "metadata": {},
   "outputs": [],
   "source": [
    "f, ax = plt.subplots(figsize=(30, 20))\n",
    "sns.heatmap(df_with_loc_season_en.corr(method='spearman'), mask=mask2, cmap='jet', vmax=.3, center=0, annot=True, fmt='.2f',\n",
    "            square=True, linewidths=.5, cbar_kws={\"shrink\": .8});\n",
    "plt.title('Correlation analysis including encoded features for all sites');"
   ]
  },
  {
   "cell_type": "code",
   "execution_count": null,
   "metadata": {},
   "outputs": [],
   "source": [
    "selected_columns = ['Latitude', 'Humidity', 'AmbientTemp', 'PolyPwr', 'Wind.Speed',\n",
    "                     'Visibility', 'Pressure', 'Cloud.Ceiling', 'Location_Grissom',\n",
    "                     'Location_Hill Weber', 'Location_JDMT', 'Location_Kahului',\n",
    "                     'Location_MNANG', 'Location_Malmstrom', 'Location_March AFB',\n",
    "                     'Location_Offutt', 'Location_Peterson', 'Location_Travis',\n",
    "                     'Location_USAFA','Season_Spring', 'Season_Summer', 'Season_Winter',\n",
    "                     'sine_mon', 'cos_mon', 'sine_hr', 'cos_hr']"
   ]
  },
  {
   "cell_type": "code",
   "execution_count": null,
   "metadata": {},
   "outputs": [],
   "source": [
    "df_processed = df_with_loc_season_en[selected_columns].reset_index(drop=True)"
   ]
  },
  {
   "cell_type": "code",
   "execution_count": null,
   "metadata": {},
   "outputs": [],
   "source": [
    "target_label = 'PolyPwr'"
   ]
  },
  {
   "cell_type": "code",
   "execution_count": null,
   "metadata": {},
   "outputs": [],
   "source": [
    "input_feat = list(set(selected_columns).difference(set([target_label])))"
   ]
  },
  {
   "cell_type": "markdown",
   "metadata": {},
   "source": [
    "<font size=\"3\"> 1. Altitude is dropped because it has a high correlation with Pressure but does not change for a given location while presesure is more dynamic. <br/>\n",
    "<font size=\"3\"> 2. Longitude is dropped because it has zero correlation with the target variable. <br/>\n",
    "<font size=\"3\"> 3. Time, Hour, Month and Date are dropped because they have strong correlations with the engineered cyclic features but low correlation with the target variable. "
   ]
  },
  {
   "cell_type": "code",
   "execution_count": null,
   "metadata": {},
   "outputs": [],
   "source": [
    "df_X = df_processed[input_feat].reset_index(drop=True)"
   ]
  },
  {
   "cell_type": "code",
   "execution_count": null,
   "metadata": {},
   "outputs": [],
   "source": [
    "df_y = df_processed[target_label]"
   ]
  },
  {
   "cell_type": "code",
   "execution_count": null,
   "metadata": {},
   "outputs": [],
   "source": [
    "from sklearn.model_selection import train_test_split\n",
    "\n",
    "X_train, X_test, y_train, y_test = train_test_split(df_X, df_y, test_size=0.2, random_state=42)"
   ]
  },
  {
   "cell_type": "code",
   "execution_count": null,
   "metadata": {},
   "outputs": [],
   "source": [
    "from sklearn.linear_model import LinearRegression\n",
    "\n",
    "lin_reg = LinearRegression()\n",
    "lin_reg.fit(X_train,y_train)\n",
    "lin_reg.score(X_test,y_test)"
   ]
  },
  {
   "cell_type": "code",
   "execution_count": null,
   "metadata": {},
   "outputs": [],
   "source": [
    "from sklearn.ensemble import RandomForestRegressor\n",
    "\n",
    "rf_reg = RandomForestRegressor(random_state=42)\n",
    "rf_reg.fit(X_train,y_train)\n",
    "rf_reg.score(X_test,y_test)"
   ]
  },
  {
   "cell_type": "code",
   "execution_count": null,
   "metadata": {},
   "outputs": [],
   "source": [
    "from sklearn.neighbors import KNeighborsRegressor\n",
    "\n",
    "knn_reg = KNeighborsRegressor()\n",
    "knn_reg.fit(X_train,y_train)\n",
    "knn_reg.score(X_test,y_test)"
   ]
  },
  {
   "cell_type": "code",
   "execution_count": null,
   "metadata": {},
   "outputs": [],
   "source": [
    "from lightgbm import LGBMRegressor\n",
    "\n",
    "lgbm_reg = LGBMRegressor(force_row_wise=True)\n",
    "lgbm_reg.fit(X_train, y_train)\n",
    "lgbm_reg.score(X_test, y_test)"
   ]
  },
  {
   "cell_type": "code",
   "execution_count": null,
   "metadata": {},
   "outputs": [],
   "source": [
    "from sklearn.linear_model import Ridge\n",
    "\n",
    "ridge_reg = Ridge()\n",
    "ridge_reg.fit(X_train,y_train)\n",
    "ridge_reg.score(X_test,y_test)"
   ]
  },
  {
   "cell_type": "code",
   "execution_count": null,
   "metadata": {},
   "outputs": [],
   "source": [
    "from sklearn.linear_model import Lasso\n",
    "\n",
    "las_reg = Lasso()\n",
    "las_reg.fit(X_train,y_train)\n",
    "las_reg.score(X_test,y_test)"
   ]
  },
  {
   "cell_type": "code",
   "execution_count": null,
   "metadata": {},
   "outputs": [],
   "source": [
    "from sklearn.preprocessing import PolynomialFeatures\n",
    "\n",
    "for i in range(1,4):\n",
    "  poly = PolynomialFeatures(degree=i)\n",
    "  x_poly = poly.fit_transform(X_train)\n",
    "  poly_reg = Ridge()\n",
    "  poly_reg.fit(x_poly,y_train)\n",
    "  a = poly_reg.score(poly.fit_transform(X_test),y_test)\n",
    "  print(\"For i = \",i,\" score = \",a)"
   ]
  },
  {
   "cell_type": "code",
   "execution_count": null,
   "metadata": {},
   "outputs": [],
   "source": [
    "import tensorflow as tf\n",
    "from tensorflow.keras.layers import BatchNormalization, Dense, Conv1D, ReLU, Dropout\n",
    "from tensorflow.keras.models import Sequential\n",
    "from tensorflow.keras.wrappers.scikit_learn import KerasRegressor\n",
    "from tensorflow.keras import backend as K"
   ]
  },
  {
   "cell_type": "code",
   "execution_count": null,
   "metadata": {},
   "outputs": [],
   "source": [
    "def dl_model(n_units1, n_units2, n_units3, act1, act2, act3, ker_init, lr, dr0, dr1, dl_loss):\n",
    "    model = Sequential()\n",
    "    model.add(Dense(n_units1, activation=act1, kernel_initializer=ker_init, input_dim=X_train.shape[1]))\n",
    "    # model.add(Dense(n_units1, activation=act1, kernel_initializer=ker_init))\n",
    "    model.add(Dropout(dr0))\n",
    "    model.add(Dense(n_units2, activation=act2, kernel_initializer=ker_init))\n",
    "    model.add(Dropout(dr1))\n",
    "    model.add(Dense(n_units3, activation=act3, kernel_initializer=ker_init))\n",
    "    model.add(Dense(1, activation='relu'))\n",
    "    model.compile(optimizer=tf.keras.optimizers.Adam(learning_rate=lr), metrics=[r_squared, tf.keras.metrics.mean_squared_error], loss=dl_loss)\n",
    "    return model"
   ]
  },
  {
   "cell_type": "code",
   "execution_count": null,
   "metadata": {},
   "outputs": [],
   "source": [
    "def custom_loss(y_true, y_pred):\n",
    "    # (1-R2)\n",
    "    SS_res = K.sum(K.square(y_true-y_pred))\n",
    "    SS_tot = K.sum(K.square(y_true-K.mean(y_true)))\n",
    "    return SS_res/(SS_tot+K.epsilon())"
   ]
  },
  {
   "cell_type": "code",
   "execution_count": null,
   "metadata": {},
   "outputs": [],
   "source": [
    "def r_squared(y_true, y_pred):\n",
    "    SS_res = K.sum(K.square(y_true-y_pred))\n",
    "    SS_tot = K.sum(K.square(y_true-K.mean(y_true)))\n",
    "    return (1-SS_res/(SS_tot+K.epsilon()))"
   ]
  },
  {
   "cell_type": "code",
   "execution_count": null,
   "metadata": {},
   "outputs": [],
   "source": [
    "# Create list of each hyper-param to tune\n",
    "# n_units0_list = [40*x for x in range(3, 10)]\n",
    "n_units1_list = [40*x for x in range(3, 10)]\n",
    "n_units2_list = [40*x for x in range(3, 10)]\n",
    "n_units3_list = [40*x for x in range(3, 10)]\n",
    "\n",
    "# act0_list = ['relu', 'tanh']\n",
    "act1_list = ['relu', 'tanh']\n",
    "act2_list = ['relu', 'tanh']\n",
    "act3_list = ['relu', 'tanh']\n",
    "\n",
    "ker_init_list = ['glorot_normal', 'glorot_uniform']\n",
    "\n",
    "learning_rate_list = [round(np.power(0.1, x/3), 5) for x in range(8, 11)]\n",
    "\n",
    "dl_loss_list = [custom_loss, 'mean_squared_error']\n",
    "\n",
    "# batch_size_list = [np.int64(150*x) for x in range(1, 6)]\n",
    "batch_size_list = [600]\n",
    "\n",
    "# epochs_list = [np.int64(30*x) for x in range(1, 4)]\n",
    "epochs_list = [100]\n",
    "\n",
    "dr0_list = [0.1, 0.2, 0.3]\n",
    "dr1_list = [0.1, 0.2, 0.3]\n",
    "\n",
    "early_stopping_callback = tf.keras.callbacks.EarlyStopping(monitor='val_loss', patience=5)"
   ]
  },
  {
   "cell_type": "code",
   "execution_count": null,
   "metadata": {},
   "outputs": [],
   "source": [
    "# Structure model hyper-params as a dictionary\n",
    "dl_grid = {'kr__n_units1':n_units1_list,\n",
    "            'kr__n_units2':n_units2_list,\n",
    "            'kr__n_units3':n_units3_list,\n",
    "            'kr__act1':act1_list,\n",
    "            'kr__act2':act2_list,\n",
    "            'kr__act3':act3_list,\n",
    "            'kr__ker_init':ker_init_list,\n",
    "            'kr__lr':learning_rate_list,\n",
    "            'kr__dl_loss':dl_loss_list,\n",
    "            'kr__batch_size':batch_size_list,\n",
    "            'kr__epochs':epochs_list,\n",
    "            'kr__dr0':dr0_list,\n",
    "            'kr__dr1':dr1_list,\n",
    "            'kr__callbacks':[early_stopping_callback],\n",
    "            'kr__validation_split':[0.1]}"
   ]
  },
  {
   "cell_type": "code",
   "execution_count": null,
   "metadata": {},
   "outputs": [],
   "source": [
    "# Scale training data\n",
    "estimators = []\n",
    "estimators.append(('standardize', StandardScaler()))\n",
    "# estimators.append(('minmax', MinMaxScaler()))\n",
    "estimators.append(('kr', KerasRegressor(build_fn=dl_model)))\n",
    "pipeline = Pipeline(estimators)"
   ]
  },
  {
   "cell_type": "code",
   "execution_count": null,
   "metadata": {},
   "outputs": [],
   "source": []
  }
 ],
 "metadata": {
  "kernelspec": {
   "display_name": "Python 3 (ipykernel)",
   "language": "python",
   "name": "python3"
  },
  "language_info": {
   "codemirror_mode": {
    "name": "ipython",
    "version": 3
   },
   "file_extension": ".py",
   "mimetype": "text/x-python",
   "name": "python",
   "nbconvert_exporter": "python",
   "pygments_lexer": "ipython3",
   "version": "3.10.13"
  }
 },
 "nbformat": 4,
 "nbformat_minor": 4
}
